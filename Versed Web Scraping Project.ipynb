{
 "cells": [
  {
   "cell_type": "code",
   "execution_count": 1,
   "id": "62e89a0f",
   "metadata": {},
   "outputs": [],
   "source": [
    "# Import libraries\n",
    "\n",
    "from bs4 import BeautifulSoup\n",
    "import requests\n",
    "import time\n",
    "import datetime"
   ]
  },
  {
   "cell_type": "code",
   "execution_count": 2,
   "id": "487b3b66",
   "metadata": {},
   "outputs": [
    {
     "name": "stdout",
     "output_type": "stream",
     "text": [
      "Doctor's Visit Instant Resurfacing Mask\n",
      "19.99\n"
     ]
    }
   ],
   "source": [
    "# Connect to website \n",
    "\n",
    "URL = 'https://versedskin.com/products/doctors-visit-instant-resurfacing-mask'\n",
    "\n",
    "headers = {\"User-Agent\": \"Mozilla/5.0 (Macintosh; Intel Mac OS X 10_15_7) AppleWebKit/605.1.15 (KHTML, like Gecko) Version/16.5 Safari/605.1.15\"}\n",
    "\n",
    "page = requests.get(URL, headers=headers)\n",
    "\n",
    "soup1 = BeautifulSoup(page.content, 'html.parser')\n",
    "\n",
    "soup2 = BeautifulSoup(soup1.prettify(), 'html.parser')\n",
    "\n",
    "title = soup2.find('h1', {'itemprop':'name'}, {'class':'product-details-product-title'}).get_text(strip=True)\n",
    "\n",
    "subtitle = soup2.find('div', {'class':'product-details-product-subtitle'}).get_text(strip=True)\n",
    "\n",
    "item = title + ' ' + subtitle\n",
    "\n",
    "price = soup2.find('span', {'class':'money'}).get_text(strip=True)[1:]\n",
    "\n",
    "print(item)\n",
    "print(price)"
   ]
  },
  {
   "cell_type": "code",
   "execution_count": 3,
   "id": "f8c25870",
   "metadata": {},
   "outputs": [
    {
     "name": "stdout",
     "output_type": "stream",
     "text": [
      "2023-08-12\n"
     ]
    }
   ],
   "source": [
    "# Create a timestamp to track when data was collected\n",
    "\n",
    "today = datetime.date.today()\n",
    "\n",
    "print(today)"
   ]
  },
  {
   "cell_type": "code",
   "execution_count": 4,
   "id": "21f85d76",
   "metadata": {},
   "outputs": [],
   "source": [
    "# Create CSV and write headers and data into the file\n",
    "\n",
    "import csv\n",
    "\n",
    "header = ['Item', 'Price', 'Date']\n",
    "data = [item, price, today]\n",
    "\n",
    "with open ('VersedWebScraping.csv', 'w', newline='', encoding='UTF8') as f:\n",
    "    writer = csv.writer(f)\n",
    "    writer.writerow(header)\n",
    "    writer.writerow(data)"
   ]
  },
  {
   "cell_type": "code",
   "execution_count": 5,
   "id": "9e1de67a",
   "metadata": {},
   "outputs": [
    {
     "name": "stdout",
     "output_type": "stream",
     "text": [
      "                                      Item  Price        Date\n",
      "0  Doctor's Visit Instant Resurfacing Mask  19.99  2023-08-12\n"
     ]
    }
   ],
   "source": [
    "import pandas as pd\n",
    "\n",
    "df = pd.read_csv(r'/Users/kylee/VersedWebScraping.csv')\n",
    "\n",
    "print(df)"
   ]
  },
  {
   "cell_type": "code",
   "execution_count": 6,
   "id": "e5f3c35a",
   "metadata": {},
   "outputs": [],
   "source": [
    "#Append data to the CSV\n",
    "\n",
    "with open ('VersedWebScraping.csv', 'a+', newline='', encoding='UTF8') as f:\n",
    "    writer = csv.writer(f)\n",
    "    writer.writerow(data)"
   ]
  },
  {
   "cell_type": "code",
   "execution_count": 7,
   "id": "f60f7434",
   "metadata": {},
   "outputs": [],
   "source": [
    "#Combine all above code into one function\n",
    "\n",
    "def check_price():\n",
    "    URL = 'https://versedskin.com/products/doctors-visit-instant-resurfacing-mask'\n",
    "\n",
    "    headers = {\"User-Agent\": \"Mozilla/5.0 (Macintosh; Intel Mac OS X 10_15_7) AppleWebKit/605.1.15 (KHTML, like Gecko) Version/15.4 Safari/605.1.15\"}\n",
    "\n",
    "    page = requests.get(URL, headers=headers)\n",
    "\n",
    "    soup1 = BeautifulSoup(page.content, 'html.parser')\n",
    "\n",
    "    soup2 = BeautifulSoup(soup1.prettify(), 'html.parser')\n",
    "\n",
    "    title = soup2.find('h1', {'itemprop':'name'}, {'class':'product-details-product-title'}).get_text(strip=True)\n",
    "\n",
    "    subtitle = soup2.find('div', {'class':'product-details-product-subtitle'}).get_text(strip=True)\n",
    "    \n",
    "    item = title + ' ' + subtitle\n",
    "\n",
    "    price = soup2.find('span', {'class':'money'}).get_text(strip=True)[1:]\n",
    "    \n",
    "    today = datetime.date.today()\n",
    "    \n",
    "    import csv\n",
    "\n",
    "    header = ['Item', 'Price', 'Date']\n",
    "    data = [item, price, today]\n",
    "    \n",
    "    with open ('VersedWebScraping.csv', 'a+', newline='', encoding='UTF8') as f:\n",
    "        writer = csv.writer(f)\n",
    "        writer.writerow(data)"
   ]
  },
  {
   "cell_type": "code",
   "execution_count": null,
   "id": "5bddbf1c",
   "metadata": {},
   "outputs": [],
   "source": [
    "# Run check_price every day and inputs data into your CSV\n",
    "\n",
    "while(True):\n",
    "    check_price()\n",
    "    time.sleep(86400)"
   ]
  },
  {
   "cell_type": "code",
   "execution_count": null,
   "id": "9cbd9062",
   "metadata": {},
   "outputs": [],
   "source": [
    "import pandas as pd\n",
    "\n",
    "df = pd.read_csv(r'/Users/kylee/VersedWebScraping.csv')\n",
    "\n",
    "print(df)"
   ]
  },
  {
   "cell_type": "code",
   "execution_count": null,
   "id": "bb6ac07d",
   "metadata": {},
   "outputs": [],
   "source": []
  }
 ],
 "metadata": {
  "kernelspec": {
   "display_name": "Python 3 (ipykernel)",
   "language": "python",
   "name": "python3"
  },
  "language_info": {
   "codemirror_mode": {
    "name": "ipython",
    "version": 3
   },
   "file_extension": ".py",
   "mimetype": "text/x-python",
   "name": "python",
   "nbconvert_exporter": "python",
   "pygments_lexer": "ipython3",
   "version": "3.10.9"
  }
 },
 "nbformat": 4,
 "nbformat_minor": 5
}
